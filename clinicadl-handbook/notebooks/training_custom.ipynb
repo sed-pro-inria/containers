{
 "cells": [
  {
   "cell_type": "markdown",
   "id": "b53d2269",
   "metadata": {},
   "source": [
    "# Training for custom task\n",
    "\n",
    "The aim of ClinicaDL is not only to provide a collection of tools, \n",
    "but also to allow users to add their own in the framework."
   ]
  },
  {
   "cell_type": "markdown",
   "id": "13ac2a8f",
   "metadata": {},
   "source": [
    "## Custom architectures.\n",
    "\n",
    "Custom architectures can be added to ClinicaDL by adding a model class\n",
    "in `clinicadl/utils/network`and importing it in \n",
    "`clinicadl/utils/network/__init__.py`.\n",
    "\n",
    "This model class inherits from  the abstract `Network` class in \n",
    "`clinicadl/utils/network/network.py`.\n",
    "\n",
    "Three abstract methods must be implemented to make it work:\n",
    "\n",
    "1. `forward`: computes the forward pass of the network, it may return several \n",
    "outputs needed to compute the loss.\n",
    "2. `predict`: computes the forward pass of the network and only returns the main \n",
    "output.\n",
    "3. `compute_outputs_and_loss`: computes the main outputs and the loss of the \n",
    "network."
   ]
  },
  {
   "cell_type": "markdown",
   "id": "345c4f81",
   "metadata": {},
   "source": [
    "If you want to implement a network which outputs an array, you can inherit from \n",
    "`CNN` class in `clinicadl/utils/network/sub_network.py` (see for example `Conv5_FC3` \n",
    "`clinicadl/utils/network/cnn/models.py` which is a child class of `CNN`)."
   ]
  },
  {
   "cell_type": "markdown",
   "id": "494ff7f5",
   "metadata": {},
   "source": [
    "If you want to implement a reconstruction autoencoder, you can inherit from \n",
    "`Autoencoder` class in `clinicadl/utils/network/sub_network.py` (see for example \n",
    "`AE_Conv5_FC3` `clinicadl/utils/network/cnn/models.py` which is a child class of \n",
    "`Autoencoder`).\n",
    "\n",
    "Your network may be parametrized: in this case parameter names must correspond to\n",
    "the options of the command line (for example `dropout`) or `input_size` / `output_size` \n",
    "which are computed by the MAPSManager. \n",
    "If you need a new parameter for your class you will have to add it to the command line."
   ]
  },
  {
   "cell_type": "markdown",
   "id": "75d5673f",
   "metadata": {},
   "source": [
    "# Custom input type\n",
    "\n",
    "Input types that are already provided in `clinicadl` are `image`, `patch`, `roi` and \n",
    "`slice`. To add a custom input type, please follow the steps detailed below:\n",
    "\n",
    "- Choose a mode name for this input type (for example default ones are image, patch, \n",
    "roi and slice). \n",
    "- Add your dataset class in `clinicadl/utils/caps_dataset/data.py` as a child class of \n",
    "the abstract class `CapsDataset`.\n",
    "- Create your dataset in `return_dataset` by adding:\n",
    "```\n",
    "elif mode==<mode_name>:\n",
    "    return <dataset_class>(\n",
    "        input_dir,\n",
    "        data_df,\n",
    "        preprocessing=preprocessing,\n",
    "        transformations=transformations,\n",
    "        <custom_args>\n",
    "    )\n",
    "```\n",
    "- Add your custom subparser to `train` and complete `train_func` in `clinicadl/cli.py`."
   ]
  },
  {
   "cell_type": "markdown",
   "id": "1d794b9f",
   "metadata": {},
   "source": [
    "## Custom task\n",
    "\n",
    "Available tasks in ClinicaDL are `classification`, `regression` and `reconstruction`.\n",
    "You can implement a new task `task` by adding its corresponding TaskManager in \n",
    "`clinicadl/utils/task_manager/<task>.py`. This new class must inherits from the abstract\n",
    "class `TaskManager` in `clinicadl/utils/task_manager/task_manager.py`.\n",
    "\n",
    "Then modify the `_init_task_manager` function in the class `MapsManager` at \n",
    "`clinicadl/utils/maps_manager/maps_manager.py`."
   ]
  },
  {
   "cell_type": "markdown",
   "id": "28ca8463",
   "metadata": {},
   "source": [
    "## Custom metric\n",
    "\n",
    "Other metrics can be added to the ones already available in ClinicaDL.\n",
    "If the metric to add is composed of several words, please use the acronym\n",
    "to name it (for example `balanced accuracy` becomes `BA`, `mean squared error`\n",
    "becomes `MSE`).\n",
    "\n",
    "Then add the method `<metric>_fn` to `MetricModule` in `clinicadl/utils/metric_module.py`,\n",
    "where `metric` is the name of your metric in lower case (for example `balanced accuracy` \n",
    "function is `ba_fn`).\n",
    "\n",
    "This metric will only be used to evaluate specific tasks, then the `evaluation_metrics` \n",
    "property of the corresponding `TaskManager` must be updated in `clinicadl/utils/task_manager`.\n",
    "\n",
    "Finally, to use this metric as a selection metric, please the `metric_optimum` dict in\n",
    "`clinicadl/utils/metric_module.py`. The key is the name of your metric, and the content is \n",
    "respectively `min` or `max` if the performance improves when the metric respectively \n",
    "decreases or increases."
   ]
  }
 ],
 "metadata": {
  "jupytext": {
   "encoding": "# -*- coding: utf-8 -*-",
   "main_language": "python"
  },
  "kernelspec": {
   "display_name": "Python 3",
   "name": "python3"
  }
 },
 "nbformat": 4,
 "nbformat_minor": 5
}
