{
 "cells": [
  {
   "cell_type": "markdown",
   "id": "7384d80d",
   "metadata": {
    "lines_to_next_cell": 0
   },
   "source": [
    "# How to use `tsvtools`\n",
    "In this tutorial, we rely on the ADNI data set, as every preprocessing step\n",
    "needed by ClinicaDL was already performed. The goal will be to try to\n",
    "differentiate by gender (men/women) on the cognitively normal population from\n",
    "t1w-MRI, and then infer the results on other. \n",
    "\n",
    "BIDS data can be found at: `/network/lustre/dtlake01/aramis/datasets/adni/bids/BIDS`\n",
    "\n",
    "Corresponding CAPS is at: `/network/lustre/dtlake01/aramis/datasets/adni/caps/caps_v2021`\n",
    "\n",
    "```{note}\n",
    "To run this notebook without editing the path to the data, create symbolic\n",
    "links to the BIDS and the CAPS:\n",
    "ln -s /network/lustre/dtlake01/aramis/datasets/adni/bids ./data/bids\n",
    "ln -s /network/lustre/dtlake01/aramis/datasets/adni/caps/caps_v2021/ ./data/caps_v202\n",
    "```"
   ]
  },
  {
   "cell_type": "markdown",
   "id": "fc116a98",
   "metadata": {
    "lines_to_next_cell": 0
   },
   "source": [
    "## Find diagnosis labels\n",
    "\n",
    "First, we will use the `getlabels` function of ClinicaDL to identify which\n",
    "participants are cognitively normal or demented.\n",
    "For this we need clinical information stored in the BIDS, and already\n",
    "preprocessed by Clinica:\n",
    "- summary TSV file merging all information of the BIDS (`clinica iotools merge-tsv`)\n",
    "- missing imaging modalities (`clinica iotools check-missing-modalities`)\n",
    "\n",
    "Fortunately these two steps were already completed on ADNI, then we can\n",
    "directly apply `clinicadl tsvtool getlabels`.\n",
    "\n",
    "```{note}\n",
    "If you have other labels, you can skip this step and directly go to the next one!\n",
    "```"
   ]
  },
  {
   "cell_type": "code",
   "execution_count": null,
   "id": "e34478de",
   "metadata": {},
   "outputs": [],
   "source": [
    "!clinicadl tsvtool getlabels \\\n",
    "    \"../data/bids/ADNI_BIDS_clean.tsv\" \\\n",
    "    \"../data/bids/missing_mods\" \\\n",
    "    \"../data/labels_list/\""
   ]
  },
  {
   "cell_type": "markdown",
   "id": "7caa14ca",
   "metadata": {
    "lines_to_next_cell": 0
   },
   "source": [
    "One TSV file will be created for each diagnosis label: CN (cognitively normal)\n",
    "and AD (Alzheimer's disease). You can find the options used to create these\n",
    "files in the JSON file `getlabels.json`"
   ]
  },
  {
   "cell_type": "code",
   "execution_count": null,
   "id": "6e08ab89",
   "metadata": {},
   "outputs": [],
   "source": [
    "!tree ../data/labels_list/"
   ]
  },
  {
   "cell_type": "markdown",
   "id": "e72b08b7",
   "metadata": {
    "lines_to_next_cell": 0
   },
   "source": [
    "Then we can analyse our populations with the analysis tool:"
   ]
  },
  {
   "cell_type": "code",
   "execution_count": null,
   "id": "c48ac128",
   "metadata": {
    "lines_to_next_cell": 0
   },
   "outputs": [],
   "source": [
    "!clinicadl tsvtool analysis \\\n",
    "    \"../data/bids/ADNI_BIDS_clean.tsv\" \\\n",
    "    \"../data/labels_list\" \\\n",
    "    \"../data/analysis.tsv\""
   ]
  },
  {
   "cell_type": "code",
   "execution_count": null,
   "id": "28dbbf04",
   "metadata": {},
   "outputs": [],
   "source": [
    "import pandas as pd\n",
    "df = pd.read_csv(\"../data/analysis.tsv\", sep=\"\\t\")\n",
    "display(df)\n",
    "\n",
    "# To display more nicely the output we implemented in this notebook\n",
    "# `display_table`:\n",
    "\n",
    "def display_table(table_path):\n",
    "    \"\"\"Custom function to display the clinicadl tsvtool analysis output\"\"\"\n",
    "    import pandas as pd\n",
    "\n",
    "    OASIS_analysis_df = pd.read_csv(table_path, sep='\\t')\n",
    "    OASIS_analysis_df.set_index(\"diagnosis\", drop=True, inplace=True)\n",
    "    columns = [\"n_subjects\", \"n_scans\",\n",
    "               \"mean_age\", \"std_age\", \"min_age\", \"max_age\",\n",
    "               \"sexF\", \"sexM\",\n",
    "               \"mean_MMSE\", \"std_MMSE\", \"min_MMSE\", \"max_MMSE\",\n",
    "               \"CDR_0\", \"CDR_0.5\", \"CDR_1\", \"CDR_2\", \"CDR_3\"]\n",
    "\n",
    "    # Print formatted table\n",
    "    format_columns = [\"subjects\", \"scans\", \"age\", \"sex\", \"MMSE\", \"CDR\"]\n",
    "    format_df = pd.DataFrame(index=OASIS_analysis_df.index, columns=format_columns)\n",
    "    for idx in OASIS_analysis_df.index.values:    \n",
    "        row_str = \"%i; %i; %.1f ± %.1f [%.1f, %.1f]; %iF / %iM; %.1f ± %.1f [%.1f, %.1f]; 0: %i, 0.5: %i, 1: %i, 2:%i, 3:%i\" % tuple([OASIS_analysis_df.loc[idx, col] for col in columns])\n",
    "        row_list = row_str.split(';')\n",
    "        format_df.loc[idx] = row_list\n",
    "\n",
    "    format_df.index.name = None\n",
    "    display(format_df)\n",
    "\n",
    "\n",
    "display_table(\"../data/analysis.tsv\")"
   ]
  },
  {
   "cell_type": "markdown",
   "id": "8bfd3712",
   "metadata": {
    "lines_to_next_cell": 0
   },
   "source": [
    "## Create the test set\n",
    "\n",
    "We put 100 participants in the test set with the split `function` of\n",
    "ClinicaDL.\n",
    "This function ensures that there is no significant difference in the age and\n",
    "sex distributions between the train and test sets.\n"
   ]
  },
  {
   "cell_type": "code",
   "execution_count": null,
   "id": "73d0fed3",
   "metadata": {},
   "outputs": [],
   "source": [
    "# ![split](../images/test_split.png)\n",
    "\n",
    "!clinicadl tsvtool split ../data/labels_list --subset_name test --n_test 100\n",
    "\n",
    "!tree ../data/labels_list"
   ]
  },
  {
   "cell_type": "markdown",
   "id": "9673260f",
   "metadata": {},
   "source": [
    "## Create the cross-validation\n",
    "\n",
    "We choose to use a 2-fold validation (to avoid spending too much time on\n",
    "training).\n",
    "We use the sex as stratification variable."
   ]
  },
  {
   "cell_type": "code",
   "execution_count": null,
   "id": "f2093bdd",
   "metadata": {},
   "outputs": [],
   "source": [
    "!clinicadl tsvtool kfold ../data/labels_list/train --n_splits 2 --stratification sex\n",
    "\n",
    "!tree ../data/labels_list"
   ]
  }
 ],
 "metadata": {
  "jupytext": {
   "encoding": "# -*- coding: utf-8 -*",
   "main_language": "python"
  },
  "kernelspec": {
   "display_name": "Python 3",
   "name": "python3"
  }
 },
 "nbformat": 4,
 "nbformat_minor": 5
}
