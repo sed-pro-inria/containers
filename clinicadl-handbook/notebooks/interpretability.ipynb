{
 "cells": [
  {
   "cell_type": "code",
   "execution_count": null,
   "id": "a15350fe",
   "metadata": {
    "lines_to_next_cell": 0
   },
   "outputs": [],
   "source": [
    "# Uncomment this cell if running in Google Colab\n",
    "!pip install clinicadl==1.3.0"
   ]
  },
  {
   "cell_type": "markdown",
   "id": "b707fd6f",
   "metadata": {},
   "source": [
    "# Generate saliency maps on trained networks\n",
    "\n",
    "Explaining black-box models can be useful to better understand their behavior.\n",
    "For more information on this complex topic, we highly recommend the review of\n",
    "[Xie et al.](http://arxiv.org/abs/2004.14545).\n",
    "\n",
    "In ClinicaDL, the most basic method of interpretability was implemented:\n",
    "[gradients visualization](https://arxiv.org/pdf/1312.6034.pdf) (sometimes\n",
    "called saliency maps). This method shows how the voxel intensities of an input\n",
    "image should be modified in order to increase the value of a particular output\n",
    "node.  Here the output nodes correspond to a label: the first one represents\n",
    "AD whereas the second represents CN.\n",
    "\n",
    "This method can be performed on an individual or on a group fashion (in this\n",
    "case it will be the mean value of all the individual saliency maps in the\n",
    "group)."
   ]
  },
  {
   "cell_type": "markdown",
   "id": "cef90ff9",
   "metadata": {},
   "source": [
    "## Use of trivial datasets\n",
    "\n",
    "In the following, we are going to extract saliency maps from a model already\n",
    "trained on a large trivial synthetic dataset. The second line download the\n",
    "mask used for trivial data generation, so we can compare them to the saliency\n",
    "maps obtained."
   ]
  },
  {
   "cell_type": "code",
   "execution_count": null,
   "id": "17b2e4b2",
   "metadata": {},
   "outputs": [],
   "source": [
    "# Downloading pretrained model\n",
    "!curl -k https://aramislab.paris.inria.fr/clinicadl/files/handbook_2023/interpret/maps_trivial.tar.gz -o maps_trivial.tar.gz\n",
    "!tar xf maps_trivial.tar.gz"
   ]
  },
  {
   "cell_type": "code",
   "execution_count": null,
   "id": "a7613751",
   "metadata": {},
   "outputs": [],
   "source": [
    "# Downloading masks used for trivial data generation\n",
    "!curl -k https://aramislab.paris.inria.fr/files/data/masks/AAL2.tar.gz -o AAL2.tar.gz\n",
    "!tar xf AAL2.tar.gz"
   ]
  },
  {
   "cell_type": "markdown",
   "id": "ba0479b8",
   "metadata": {},
   "source": [
    "In this trivial dataset, \"AD\" brains are atrophied according to the first mask\n",
    "while \"CN\" brains are atrophied according to the second mask. The first mask\n",
    "include the whole cerebellum + the left hemisphere while the second mask\n",
    "includes the right hemisphere."
   ]
  },
  {
   "cell_type": "code",
   "execution_count": null,
   "id": "19d41f1b",
   "metadata": {},
   "outputs": [],
   "source": [
    "from nilearn import plotting\n",
    "\n",
    "plotting.plot_stat_map(\"AAL2/mask-1.nii\", title=\"AD atrophy\", cut_coords=(-50, 14), display_mode=\"yz\")\n",
    "plotting.plot_stat_map(\"AAL2/mask-2.nii\", title=\"CN atrophy\", cut_coords=(-50, 14), display_mode=\"yz\")\n",
    "plotting.show()"
   ]
  },
  {
   "cell_type": "markdown",
   "id": "5d3adef5",
   "metadata": {},
   "source": [
    "Saliency maps will be generated using trivial data generated from OASIS. If\n",
    "you did not run the notebook\n",
    "[generate synthetic data](generate.ipynb), you will need to run the\n",
    "following cell as well:"
   ]
  },
  {
   "cell_type": "code",
   "execution_count": null,
   "id": "81129df8",
   "metadata": {
    "lines_to_next_cell": 2
   },
   "outputs": [],
   "source": [
    "import os\n",
    "\n",
    "os.makedirs(\"data\", exist_ok=True)\n",
    "# Download trivial CAPS\n",
    "!curl -k https://aramislab.paris.inria.fr/clinicadl/files/handbook_2023/interpret/caps_trivial.tar.gz -o caps_trivial.tar.gz\n",
    "!tar xf caps_trivial.tar.gz "
   ]
  },
  {
   "cell_type": "markdown",
   "id": "62337a6a",
   "metadata": {},
   "source": [
    "# Generate individual saliency maps\n",
    "\n",
    "Saliency maps on corresponding to one image can be computed with the following\n",
    "command:\n",
    "\n",
    "```bash\n",
    "clinicadl interpret [OPTIONS] INPUT_MAPS_DIRECTORY DATA_GROUP NAME METHOD\n",
    "```\n",
    "where:\n",
    "- `input_maps_directory` is the path to the pretrained model folder,\n",
    "- `data_group` (str) is a prefix to name the files resulting from the interpretation task.\n",
    "- `name` is the name of the interpretability job.\n",
    "- `method` (str) is the name of the saliency method (gradients or grad-cam).\n",
    "\n",
    "```{warning}\n",
    "For ClinicaDL, a data group is linked to a list of participants / sessions and\n",
    "a CAPS directory.  When performing a prediction, interpretation or tensor\n",
    "serialization the user must give a data group.  If this data group does not\n",
    "exist, the user MUST give a caps_path and a tsv_path. If this data group \n",
    "already exists, the user MUST not give any caps_path or tsv_path, or set\n",
    "overwrite to True.\n",
    "```"
   ]
  },
  {
   "cell_type": "markdown",
   "id": "274613c8",
   "metadata": {},
   "source": [
    "In the following we chose to generate saliency map based on the opposite\n",
    "labels:\n",
    "- the first command loads AD images and generates saliency maps based on CN\n",
    "node, \n",
    "- the second command loads CN images and generates saliency maps based on AD\n",
    "node,\n",
    "\n",
    "Choosing the target node can be interesting in multi-class problems, but in\n",
    "binary classification we expect the map of the opposite node to have opposite\n",
    "values than the ones in the corresponding node (that is not very interesting)."
   ]
  },
  {
   "cell_type": "code",
   "execution_count": null,
   "id": "1adc064e",
   "metadata": {
    "lines_to_next_cell": 2
   },
   "outputs": [],
   "source": [
    "# grad-cam diagnosis AD\n",
    "!clinicadl interpret interpret/maps_trivial test-gc gc_AD grad-cam -d AD --caps_directory interpret/caps_trivial_tensor --participants_tsv interpret/caps_trivial_tensor/data.tsv "
   ]
  },
  {
   "cell_type": "code",
   "execution_count": null,
   "id": "95e4001f",
   "metadata": {
    "lines_to_next_cell": 2
   },
   "outputs": [],
   "source": [
    "# gradients diagnosis CN\n",
    "!clinicadl interpret interpret/maps_trivial test-gd gd_CN gradients -d CN --caps_directory interpret/caps_trivial_tensor --participants_tsv interpret/caps_trivial_tensor/data.tsv  --save_individual"
   ]
  },
  {
   "cell_type": "markdown",
   "id": "7462a810",
   "metadata": {},
   "source": [
    "This command will generate saliency maps for the model selected on validation \n",
    "loss. You can obtain the same maps for the model selection on validation\n",
    "balanced accuracy by adding the option `--selection best_balanced_accuracy`.\n",
    "\n",
    "One map is generated per image in the folder `gradients/selection/<name>`.\n",
    "These images are organized in a similar way than the CAPS, with a\n",
    "`<participant_id>/<subject_id>` structure:"
   ]
  },
  {
   "cell_type": "code",
   "execution_count": null,
   "id": "4b6d5525",
   "metadata": {},
   "outputs": [],
   "source": [
    "!tree interpret/maps_trivial/fold-0/gradients/best_loss/test-gc"
   ]
  },
  {
   "cell_type": "markdown",
   "id": "cd115648",
   "metadata": {
    "lines_to_next_cell": 2
   },
   "source": [
    "Because we add the `--save_individual` option, we can plot the individual\n",
    "saliency maps to check which regions the CNN is focusing on.\n",
    "We can also plot the group saliency maps in the same way than for the\n",
    "individual ones."
   ]
  },
  {
   "cell_type": "code",
   "execution_count": null,
   "id": "cd0568d1",
   "metadata": {},
   "outputs": [],
   "source": [
    "def plot_individual_maps(diagnosis, target):\n",
    "    import os\n",
    "    from os import path\n",
    "    \n",
    "    subjects_path = f\"interpret/maps_trivial/split-0/best-loss/maps_bis_OASIS_interpret/interpret-test/mean_roi-0_map.pt\"\n",
    "    subjects_list = [subject for subject in os.listdir(subjects_path) \n",
    "                     if path.isdir(path.join(subjects_path, subject))]\n",
    "    subjects_list.sort()\n",
    "    for subject in subjects_list:\n",
    "        map_path = path.join(subjects_path, subject, \"ses-M00\", \"map.nii.gz\")\n",
    "        plotting.plot_stat_map(map_path, title=f\"Saliency map of {subject}\",\n",
    "                               cut_coords=(-50, 14), display_mode=\"yz\", threshold=10**-3)\n",
    "    plotting.show()\n",
    "\n",
    "print(\"Saliency maps of AD images based on CN nodes\")\n",
    "plot_individual_maps(\"AD\", \"CN\")\n",
    "print(\"Saliency maps of CN images based on AD nodes\")\n",
    "plot_individual_maps(\"CN\", \"AD\")"
   ]
  },
  {
   "cell_type": "markdown",
   "id": "6bc817f3",
   "metadata": {
    "lines_to_next_cell": 0
   },
   "source": [
    "The group saliency maps are very noisy and may be difficult to interpret but\n",
    "individual maps are less noisy as the individual differences are less present\n",
    "and we can see more easily the main pattern."
   ]
  },
  {
   "cell_type": "code",
   "execution_count": null,
   "id": "3633ef0d",
   "metadata": {},
   "outputs": [],
   "source": []
  }
 ],
 "metadata": {
  "jupytext": {
   "encoding": "# -*- coding: utf-8 -*-",
   "main_language": "python"
  },
  "kernelspec": {
   "display_name": "Python 3",
   "name": "python3"
  }
 },
 "nbformat": 4,
 "nbformat_minor": 5
}
